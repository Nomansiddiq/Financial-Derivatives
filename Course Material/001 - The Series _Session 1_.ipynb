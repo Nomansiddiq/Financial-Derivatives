{
 "cells": [
  {
   "cell_type": "code",
   "execution_count": 2,
   "id": "71ce77f3",
   "metadata": {},
   "outputs": [],
   "source": [
    "# Bismillah"
   ]
  },
  {
   "cell_type": "code",
   "execution_count": 1,
   "id": "d9f7c8b7",
   "metadata": {},
   "outputs": [],
   "source": [
    "import numpy as np\n",
    "import pandas as pd"
   ]
  },
  {
   "cell_type": "markdown",
   "id": "e59be610",
   "metadata": {},
   "source": [
    "# The Series\n",
    "    * A one-dimensional array\n",
    "    * Holds a single data type\n",
    "    * Allows access to elements through the associated index labels - helps in allignment of multiple series."
   ]
  },
  {
   "cell_type": "code",
   "execution_count": 9,
   "id": "2be0a748",
   "metadata": {},
   "outputs": [
    {
     "data": {
      "text/plain": [
       "array([ 0.06947148,  0.75256462, -0.91619069,  0.13106665,  0.0441889 ,\n",
       "        0.09961736,  1.11081896, -1.18823381,  0.38508207, -0.06659066,\n",
       "       -1.60882551, -1.33385562,  1.00826951,  0.73760252, -0.25293659,\n",
       "       -0.44215815,  0.97411863, -0.15408026,  1.03287895, -0.98111928,\n",
       "        0.99435807,  1.27147079,  0.4473407 ,  2.36098393, -0.66034007,\n",
       "       -0.66883001,  0.37820077, -1.79091076,  0.9799137 ,  0.2533848 ,\n",
       "       -0.08685739,  0.62057655, -0.95848048,  0.99275171,  0.40296377,\n",
       "        0.7799859 , -1.00015207,  1.80458237,  1.64165526,  0.99444762,\n",
       "        0.21693993,  0.57586086,  2.17890247, -0.27454879,  0.50173074,\n",
       "        0.98998459,  0.24541742,  1.8560003 , -0.77258775,  0.65876788,\n",
       "       -1.10319603, -1.40521383, -2.50600777, -0.29170676,  0.93143622,\n",
       "        1.69711105,  1.95613349,  1.95053211, -0.59841903,  2.12999517,\n",
       "        3.27686283,  0.64701169, -1.05166945, -1.3736395 , -0.75430816,\n",
       "       -0.24923899, -0.76969545, -0.21464266,  1.44008413,  0.01276968,\n",
       "       -0.14066902, -0.66247285, -0.28577844, -0.65195586, -0.84047712,\n",
       "       -0.5569669 , -1.27679857, -0.22183086,  1.25475661,  0.58670511,\n",
       "       -1.26914044,  0.2734276 , -0.35488894,  1.82865866,  0.4488467 ,\n",
       "       -0.3404423 , -0.87687875, -0.68277986, -0.40920638, -1.04333373,\n",
       "       -1.13771088,  0.72359208,  2.08329129, -3.02758039, -0.40592131,\n",
       "        0.33031476, -1.99817109,  1.38125693,  1.12985778,  0.9197554 ])"
      ]
     },
     "execution_count": 9,
     "metadata": {},
     "output_type": "execute_result"
    }
   ],
   "source": [
    "np.random.randn(100) # numpy array "
   ]
  },
  {
   "cell_type": "code",
   "execution_count": 11,
   "id": "b1c40e94",
   "metadata": {},
   "outputs": [],
   "source": [
    "s = pd.Series(np.random.randn(100)) # pandas series"
   ]
  },
  {
   "cell_type": "code",
   "execution_count": 13,
   "id": "0504c2c0",
   "metadata": {},
   "outputs": [
    {
     "data": {
      "text/plain": [
       "0    -0.966039\n",
       "1     0.456244\n",
       "2     0.695924\n",
       "3    -0.244621\n",
       "4     1.676248\n",
       "        ...   \n",
       "95   -1.673815\n",
       "96   -0.655622\n",
       "97   -0.460615\n",
       "98    1.771236\n",
       "99    0.307920\n",
       "Length: 100, dtype: float64"
      ]
     },
     "execution_count": 13,
     "metadata": {},
     "output_type": "execute_result"
    }
   ],
   "source": [
    "s"
   ]
  },
  {
   "cell_type": "code",
   "execution_count": 14,
   "id": "7685a24d",
   "metadata": {},
   "outputs": [
    {
     "data": {
      "text/plain": [
       "0.6959244107504207"
      ]
     },
     "execution_count": 14,
     "metadata": {},
     "output_type": "execute_result"
    }
   ],
   "source": [
    "s[2] # grab a value located at index 2."
   ]
  },
  {
   "cell_type": "code",
   "execution_count": null,
   "id": "f2316bb6",
   "metadata": {},
   "outputs": [],
   "source": [
    "# s[2, 4] # error since no single index, 2 4, exists."
   ]
  },
  {
   "cell_type": "code",
   "execution_count": 15,
   "id": "9e0a1d6f",
   "metadata": {},
   "outputs": [
    {
     "data": {
      "text/plain": [
       "2    0.695924\n",
       "4    1.676248\n",
       "dtype: float64"
      ]
     },
     "execution_count": 15,
     "metadata": {},
     "output_type": "execute_result"
    }
   ],
   "source": [
    "s[[2, 4]] # the inner [] indicates multiple indices given."
   ]
  },
  {
   "cell_type": "code",
   "execution_count": 16,
   "id": "be9352f7",
   "metadata": {},
   "outputs": [
    {
     "data": {
      "text/plain": [
       "5    0.410002\n",
       "6    0.025552\n",
       "7    0.631885\n",
       "8   -0.486650\n",
       "9    1.003634\n",
       "dtype: float64"
      ]
     },
     "execution_count": 16,
     "metadata": {},
     "output_type": "execute_result"
    }
   ],
   "source": [
    "s[5:10] # slicing doesn't need [] since there is no confusion."
   ]
  },
  {
   "cell_type": "code",
   "execution_count": 24,
   "id": "fcf52d20",
   "metadata": {},
   "outputs": [
    {
     "data": {
      "text/plain": [
       "0   -0.966039\n",
       "1    0.456244\n",
       "2    0.695924\n",
       "3   -0.244621\n",
       "4    1.676248\n",
       "dtype: float64"
      ]
     },
     "execution_count": 24,
     "metadata": {},
     "output_type": "execute_result"
    }
   ],
   "source": [
    "s.head()"
   ]
  },
  {
   "cell_type": "code",
   "execution_count": 18,
   "id": "ab61ee70",
   "metadata": {},
   "outputs": [
    {
     "data": {
      "text/plain": [
       "95   -1.673815\n",
       "96   -0.655622\n",
       "97   -0.460615\n",
       "98    1.771236\n",
       "99    0.307920\n",
       "dtype: float64"
      ]
     },
     "execution_count": 18,
     "metadata": {},
     "output_type": "execute_result"
    }
   ],
   "source": [
    "s.tail()"
   ]
  },
  {
   "cell_type": "code",
   "execution_count": 19,
   "id": "5b093b15",
   "metadata": {},
   "outputs": [
    {
     "data": {
      "text/plain": [
       "(100,)"
      ]
     },
     "execution_count": 19,
     "metadata": {},
     "output_type": "execute_result"
    }
   ],
   "source": [
    "s.shape # 100 rows. Attribute and not method."
   ]
  },
  {
   "cell_type": "code",
   "execution_count": 20,
   "id": "112aba10",
   "metadata": {},
   "outputs": [
    {
     "data": {
      "text/plain": [
       "RangeIndex(start=0, stop=100, step=1)"
      ]
     },
     "execution_count": 20,
     "metadata": {},
     "output_type": "execute_result"
    }
   ],
   "source": [
    "s.index # Attribute and not method."
   ]
  },
  {
   "cell_type": "code",
   "execution_count": 21,
   "id": "e43adab9",
   "metadata": {},
   "outputs": [
    {
     "data": {
      "text/plain": [
       "array([-0.96603871,  0.45624442,  0.69592441, -0.24462065,  1.67624791,\n",
       "        0.41000156,  0.02555209,  0.63188545, -0.48665016,  1.00363424,\n",
       "       -0.37872146,  0.60697753, -0.88579316, -1.2454294 , -0.5949832 ,\n",
       "        1.28982789, -0.50002949,  0.21367604, -0.67823495,  1.45533814,\n",
       "       -3.25995891, -1.00778965, -2.29013493,  0.15855541, -1.37702825,\n",
       "       -0.31713292,  0.69407917,  0.90681878, -1.50319692,  1.01472288,\n",
       "        0.31293887,  0.99687391, -0.34650882,  0.42443401, -0.80730991,\n",
       "        0.36481286, -0.09597013,  0.22658078, -0.30869191, -0.9794911 ,\n",
       "        1.09647889,  0.97140809,  1.18913682,  0.26722203, -0.73216673,\n",
       "       -0.80767165, -2.39489612, -0.85835129,  0.20733816, -0.50349377,\n",
       "        0.01394367,  0.60195117,  1.24377788, -1.36326775, -0.68146211,\n",
       "        0.7514932 , -0.22338767,  0.85417174, -0.81537448,  0.14458007,\n",
       "        0.38393731,  0.3070408 , -1.26191382,  0.86953659, -0.97562544,\n",
       "       -0.78488285, -0.990637  ,  1.41333934, -1.94760166,  0.06202077,\n",
       "       -0.13100389,  0.23126394, -0.63130996,  1.34608501,  0.56779525,\n",
       "       -0.50557381,  0.12466039, -1.27690551,  1.2636877 ,  1.12090778,\n",
       "       -0.62645863,  0.76801459,  0.71171724, -1.02693114,  1.01528405,\n",
       "        1.48290477, -0.0164907 , -0.06126702,  0.54709975,  0.45181641,\n",
       "       -0.64918334, -1.89823382, -0.62783033, -1.09865817,  1.51336532,\n",
       "       -1.67381487, -0.65562248, -0.46061454,  1.77123635,  0.30792035])"
      ]
     },
     "execution_count": 21,
     "metadata": {},
     "output_type": "execute_result"
    }
   ],
   "source": [
    "s.values"
   ]
  },
  {
   "cell_type": "code",
   "execution_count": 25,
   "id": "32f5bfe1",
   "metadata": {},
   "outputs": [],
   "source": [
    "s = pd.Series([1, 2, 3, 4], index = ['a', 'b', 'c', 'd']) \n",
    "# [] to indicate multiple values as usual. Indices assigned at the time of constructing a series.\n",
    "# Series created through a list."
   ]
  },
  {
   "cell_type": "code",
   "execution_count": 26,
   "id": "3332c430",
   "metadata": {},
   "outputs": [
    {
     "data": {
      "text/plain": [
       "a    1\n",
       "b    2\n",
       "c    3\n",
       "d    4\n",
       "dtype: int64"
      ]
     },
     "execution_count": 26,
     "metadata": {},
     "output_type": "execute_result"
    }
   ],
   "source": [
    "s"
   ]
  },
  {
   "cell_type": "code",
   "execution_count": 27,
   "id": "22a0aef7",
   "metadata": {},
   "outputs": [],
   "source": [
    "s = pd.Series({'a': 1, 'b': 2, 'c': 3, 'd': 4})\n",
    "# Series created through a dictionary. The keys are the indices in the series."
   ]
  },
  {
   "cell_type": "code",
   "execution_count": 28,
   "id": "913700e4",
   "metadata": {},
   "outputs": [
    {
     "data": {
      "text/plain": [
       "a    1\n",
       "b    2\n",
       "c    3\n",
       "d    4\n",
       "dtype: int64"
      ]
     },
     "execution_count": 28,
     "metadata": {},
     "output_type": "execute_result"
    }
   ],
   "source": [
    "s"
   ]
  },
  {
   "cell_type": "code",
   "execution_count": 29,
   "id": "f377bedf",
   "metadata": {},
   "outputs": [],
   "source": [
    "s = pd.Series([1, 2, 3, 4, np.nan])\n",
    "# np.nan so that the pandas know that this value is missing."
   ]
  },
  {
   "cell_type": "code",
   "execution_count": 30,
   "id": "cbdc2adb",
   "metadata": {},
   "outputs": [
    {
     "data": {
      "text/plain": [
       "0    1.0\n",
       "1    2.0\n",
       "2    3.0\n",
       "3    4.0\n",
       "4    NaN\n",
       "dtype: float64"
      ]
     },
     "execution_count": 30,
     "metadata": {},
     "output_type": "execute_result"
    }
   ],
   "source": [
    "s"
   ]
  },
  {
   "cell_type": "code",
   "execution_count": 31,
   "id": "3be6c713",
   "metadata": {},
   "outputs": [
    {
     "data": {
      "text/plain": [
       "5"
      ]
     },
     "execution_count": 31,
     "metadata": {},
     "output_type": "execute_result"
    }
   ],
   "source": [
    "len(s)\n",
    "# includes a missing avalue as well."
   ]
  },
  {
   "cell_type": "code",
   "execution_count": 32,
   "id": "ce7cae5d",
   "metadata": {},
   "outputs": [
    {
     "data": {
      "text/plain": [
       "4"
      ]
     },
     "execution_count": 32,
     "metadata": {},
     "output_type": "execute_result"
    }
   ],
   "source": [
    "s.count()\n",
    "# excludes missing value."
   ]
  },
  {
   "cell_type": "code",
   "execution_count": 33,
   "id": "a84c3cdb",
   "metadata": {},
   "outputs": [],
   "source": [
    "s = pd.Series([10, 3 , 4, 5, 7, 7, 9, 10, np.nan])"
   ]
  },
  {
   "cell_type": "code",
   "execution_count": 34,
   "id": "c5561e93",
   "metadata": {},
   "outputs": [
    {
     "data": {
      "text/plain": [
       "0    10.0\n",
       "1     3.0\n",
       "2     4.0\n",
       "3     5.0\n",
       "4     7.0\n",
       "5     7.0\n",
       "6     9.0\n",
       "7    10.0\n",
       "8     NaN\n",
       "dtype: float64"
      ]
     },
     "execution_count": 34,
     "metadata": {},
     "output_type": "execute_result"
    }
   ],
   "source": [
    "s"
   ]
  },
  {
   "cell_type": "code",
   "execution_count": 37,
   "id": "2e789c88",
   "metadata": {},
   "outputs": [
    {
     "data": {
      "text/plain": [
       "array([10.,  3.,  4.,  5.,  7.,  9., nan])"
      ]
     },
     "execution_count": 37,
     "metadata": {},
     "output_type": "execute_result"
    }
   ],
   "source": [
    "s.unique()\n",
    "# returns only unique values. That is, avoid repeatition of the same value.\n",
    "# returns the missing value as well."
   ]
  },
  {
   "cell_type": "code",
   "execution_count": 36,
   "id": "4a54c2e8",
   "metadata": {},
   "outputs": [
    {
     "data": {
      "text/plain": [
       "10.0    2\n",
       "7.0     2\n",
       "3.0     1\n",
       "4.0     1\n",
       "5.0     1\n",
       "9.0     1\n",
       "dtype: int64"
      ]
     },
     "execution_count": 36,
     "metadata": {},
     "output_type": "execute_result"
    }
   ],
   "source": [
    "s.value_counts()\n",
    "# returns frrequency distribution in descending order. For ascending order, ascending = True.\n",
    "# excludes a missing value."
   ]
  },
  {
   "cell_type": "code",
   "execution_count": 38,
   "id": "832d3115",
   "metadata": {},
   "outputs": [
    {
     "data": {
      "text/plain": [
       "3.0     1\n",
       "4.0     1\n",
       "5.0     1\n",
       "9.0     1\n",
       "10.0    2\n",
       "7.0     2\n",
       "dtype: int64"
      ]
     },
     "execution_count": 38,
     "metadata": {},
     "output_type": "execute_result"
    }
   ],
   "source": [
    "s.value_counts(ascending = True) # go from smaller values to larger values."
   ]
  },
  {
   "cell_type": "code",
   "execution_count": 39,
   "id": "9c0e4a48",
   "metadata": {},
   "outputs": [
    {
     "data": {
      "text/plain": [
       "10.0    0.250\n",
       "7.0     0.250\n",
       "3.0     0.125\n",
       "4.0     0.125\n",
       "5.0     0.125\n",
       "9.0     0.125\n",
       "dtype: float64"
      ]
     },
     "execution_count": 39,
     "metadata": {},
     "output_type": "execute_result"
    }
   ],
   "source": [
    "s.value_counts(normalize = True) # to grab percentages. ascending = False is the default argument.\n"
   ]
  },
  {
   "cell_type": "code",
   "execution_count": 40,
   "id": "294df128",
   "metadata": {},
   "outputs": [],
   "source": [
    "s1 = pd.Series([1, 2, 3, 4], index = ['a', 'b', 'c', 'd'])\n",
    "s2 = pd.Series([4, 3, 2, 1], index = ['d', 'c', 'b', 'a'])"
   ]
  },
  {
   "cell_type": "code",
   "execution_count": 41,
   "id": "2f284b22",
   "metadata": {},
   "outputs": [
    {
     "data": {
      "text/plain": [
       "a    2\n",
       "b    4\n",
       "c    6\n",
       "d    8\n",
       "dtype: int64"
      ]
     },
     "execution_count": 41,
     "metadata": {},
     "output_type": "execute_result"
    }
   ],
   "source": [
    "s1 + s2\n",
    "# The allignment is done automatically on the basis of index labels.\n",
    "# This feature does not exist in numpy array. See below."
   ]
  },
  {
   "cell_type": "code",
   "execution_count": 43,
   "id": "c81bb83f",
   "metadata": {},
   "outputs": [],
   "source": [
    "a1 = np.array([1, 2, 3, 4])\n",
    "a2 = np.array([4, 3, 2, 1])"
   ]
  },
  {
   "cell_type": "code",
   "execution_count": 44,
   "id": "16f4e3b1",
   "metadata": {},
   "outputs": [
    {
     "data": {
      "text/plain": [
       "array([1, 2, 3, 4])"
      ]
     },
     "execution_count": 44,
     "metadata": {},
     "output_type": "execute_result"
    }
   ],
   "source": [
    "a1"
   ]
  },
  {
   "cell_type": "code",
   "execution_count": 45,
   "id": "c81a143f",
   "metadata": {},
   "outputs": [
    {
     "data": {
      "text/plain": [
       "array([4, 3, 2, 1])"
      ]
     },
     "execution_count": 45,
     "metadata": {},
     "output_type": "execute_result"
    }
   ],
   "source": [
    "a2"
   ]
  },
  {
   "cell_type": "code",
   "execution_count": 46,
   "id": "ca743c91",
   "metadata": {},
   "outputs": [
    {
     "data": {
      "text/plain": [
       "array([5, 5, 5, 5])"
      ]
     },
     "execution_count": 46,
     "metadata": {},
     "output_type": "execute_result"
    }
   ],
   "source": [
    "a1 + a2\n",
    "# each corresponding element from both the arrays must be added. No flexibility of adding any two desriable elements of\n",
    "# array located at different indices."
   ]
  },
  {
   "cell_type": "code",
   "execution_count": null,
   "id": "5cbfee58-9e50-442a-b08b-e2e0f8d7fed4",
   "metadata": {},
   "outputs": [],
   "source": []
  }
 ],
 "metadata": {
  "kernelspec": {
   "display_name": "Python 3 (ipykernel)",
   "language": "python",
   "name": "python3"
  },
  "language_info": {
   "codemirror_mode": {
    "name": "ipython",
    "version": 3
   },
   "file_extension": ".py",
   "mimetype": "text/x-python",
   "name": "python",
   "nbconvert_exporter": "python",
   "pygments_lexer": "ipython3",
   "version": "3.9.7"
  }
 },
 "nbformat": 4,
 "nbformat_minor": 5
}
