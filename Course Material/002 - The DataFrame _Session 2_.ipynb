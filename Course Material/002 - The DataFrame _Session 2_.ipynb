{
 "cells": [
  {
   "cell_type": "code",
   "execution_count": null,
   "id": "868678fe",
   "metadata": {},
   "outputs": [],
   "source": [
    "# Bismillah"
   ]
  },
  {
   "cell_type": "code",
   "execution_count": 1,
   "id": "1dceded1",
   "metadata": {},
   "outputs": [],
   "source": [
    "import numpy as np\n",
    "import pandas as pd"
   ]
  },
  {
   "cell_type": "markdown",
   "id": "3f9e39d0",
   "metadata": {},
   "source": [
    "# The DataFrame\n",
    "    * A combination of multiple series, each series is a seperate column.\n",
    "    * A two-dimensional array.\n",
    "    * Has two axes, horizontal and vertical. \n",
    "        * Allows to apply operations on the selected rows or columns.m"
   ]
  },
  {
   "cell_type": "markdown",
   "id": "a433ff6e",
   "metadata": {},
   "source": [
    "# Create DataFrame"
   ]
  },
  {
   "cell_type": "code",
   "execution_count": 2,
   "id": "87c107bd",
   "metadata": {},
   "outputs": [
    {
     "data": {
      "text/plain": [
       "array([[10, 11],\n",
       "       [20, 21]])"
      ]
     },
     "execution_count": 2,
     "metadata": {},
     "output_type": "execute_result"
    }
   ],
   "source": [
    "# Method 1: Using numpy array.\n",
    "\n",
    "np.array([[10, 11], [20, 21]])\n",
    "# 2-D array."
   ]
  },
  {
   "cell_type": "code",
   "execution_count": 3,
   "id": "a0e4116d-f949-4d87-9479-f7e579f70cc7",
   "metadata": {},
   "outputs": [
    {
     "data": {
      "text/plain": [
       "numpy.ndarray"
      ]
     },
     "execution_count": 3,
     "metadata": {},
     "output_type": "execute_result"
    }
   ],
   "source": [
    "type(np.array([[10, 11], [20, 21]]))"
   ]
  },
  {
   "cell_type": "code",
   "execution_count": 4,
   "id": "3ab0648f",
   "metadata": {},
   "outputs": [
    {
     "data": {
      "text/html": [
       "<div>\n",
       "<style scoped>\n",
       "    .dataframe tbody tr th:only-of-type {\n",
       "        vertical-align: middle;\n",
       "    }\n",
       "\n",
       "    .dataframe tbody tr th {\n",
       "        vertical-align: top;\n",
       "    }\n",
       "\n",
       "    .dataframe thead th {\n",
       "        text-align: right;\n",
       "    }\n",
       "</style>\n",
       "<table border=\"1\" class=\"dataframe\">\n",
       "  <thead>\n",
       "    <tr style=\"text-align: right;\">\n",
       "      <th></th>\n",
       "      <th>0</th>\n",
       "      <th>1</th>\n",
       "    </tr>\n",
       "  </thead>\n",
       "  <tbody>\n",
       "    <tr>\n",
       "      <th>0</th>\n",
       "      <td>10</td>\n",
       "      <td>11</td>\n",
       "    </tr>\n",
       "    <tr>\n",
       "      <th>1</th>\n",
       "      <td>20</td>\n",
       "      <td>21</td>\n",
       "    </tr>\n",
       "  </tbody>\n",
       "</table>\n",
       "</div>"
      ],
      "text/plain": [
       "    0   1\n",
       "0  10  11\n",
       "1  20  21"
      ]
     },
     "execution_count": 4,
     "metadata": {},
     "output_type": "execute_result"
    }
   ],
   "source": [
    "df = pd.DataFrame(np.array([[10, 11], [20, 21]]))\n",
    "df\n",
    "# create dataframe using numpy array. np.array([[10, 11], [20, 21]] evaluates to a list of lists as can be seen above."
   ]
  },
  {
   "cell_type": "code",
   "execution_count": 5,
   "id": "4235c21a",
   "metadata": {},
   "outputs": [
    {
     "data": {
      "text/plain": [
       "0    10\n",
       "1    11\n",
       "dtype: int64"
      ]
     },
     "execution_count": 5,
     "metadata": {},
     "output_type": "execute_result"
    }
   ],
   "source": [
    "# Method 2: Using pandas series.\n",
    "s1 = pd.Series([10, 11])\n",
    "s1\n",
    "# indices already assigned."
   ]
  },
  {
   "cell_type": "code",
   "execution_count": 6,
   "id": "5a0cb341",
   "metadata": {},
   "outputs": [
    {
     "data": {
      "text/plain": [
       "0    20\n",
       "1    21\n",
       "dtype: int64"
      ]
     },
     "execution_count": 6,
     "metadata": {},
     "output_type": "execute_result"
    }
   ],
   "source": [
    "s2 = pd.Series([20, 21])\n",
    "s2\n",
    "# indices already assigned."
   ]
  },
  {
   "cell_type": "code",
   "execution_count": 7,
   "id": "3a28dd24",
   "metadata": {},
   "outputs": [
    {
     "data": {
      "text/html": [
       "<div>\n",
       "<style scoped>\n",
       "    .dataframe tbody tr th:only-of-type {\n",
       "        vertical-align: middle;\n",
       "    }\n",
       "\n",
       "    .dataframe tbody tr th {\n",
       "        vertical-align: top;\n",
       "    }\n",
       "\n",
       "    .dataframe thead th {\n",
       "        text-align: right;\n",
       "    }\n",
       "</style>\n",
       "<table border=\"1\" class=\"dataframe\">\n",
       "  <thead>\n",
       "    <tr style=\"text-align: right;\">\n",
       "      <th></th>\n",
       "      <th>0</th>\n",
       "      <th>1</th>\n",
       "    </tr>\n",
       "  </thead>\n",
       "  <tbody>\n",
       "    <tr>\n",
       "      <th>0</th>\n",
       "      <td>10</td>\n",
       "      <td>11</td>\n",
       "    </tr>\n",
       "    <tr>\n",
       "      <th>1</th>\n",
       "      <td>20</td>\n",
       "      <td>21</td>\n",
       "    </tr>\n",
       "  </tbody>\n",
       "</table>\n",
       "</div>"
      ],
      "text/plain": [
       "    0   1\n",
       "0  10  11\n",
       "1  20  21"
      ]
     },
     "execution_count": 7,
     "metadata": {},
     "output_type": "execute_result"
    }
   ],
   "source": [
    "df = pd.DataFrame([s1, s2])\n",
    "df\n",
    "# No [] around s1 and s2 since they are aleady two distinct series. df = pd.DataFrame([[10, 11], [20, 21]])\n",
    "# create dataframe using series."
   ]
  },
  {
   "cell_type": "code",
   "execution_count": 8,
   "id": "6b7e2179",
   "metadata": {},
   "outputs": [
    {
     "data": {
      "text/html": [
       "<div>\n",
       "<style scoped>\n",
       "    .dataframe tbody tr th:only-of-type {\n",
       "        vertical-align: middle;\n",
       "    }\n",
       "\n",
       "    .dataframe tbody tr th {\n",
       "        vertical-align: top;\n",
       "    }\n",
       "\n",
       "    .dataframe thead th {\n",
       "        text-align: right;\n",
       "    }\n",
       "</style>\n",
       "<table border=\"1\" class=\"dataframe\">\n",
       "  <thead>\n",
       "    <tr style=\"text-align: right;\">\n",
       "      <th></th>\n",
       "      <th>0</th>\n",
       "      <th>1</th>\n",
       "    </tr>\n",
       "  </thead>\n",
       "  <tbody>\n",
       "    <tr>\n",
       "      <th>0</th>\n",
       "      <td>10</td>\n",
       "      <td>11</td>\n",
       "    </tr>\n",
       "    <tr>\n",
       "      <th>1</th>\n",
       "      <td>20</td>\n",
       "      <td>21</td>\n",
       "    </tr>\n",
       "  </tbody>\n",
       "</table>\n",
       "</div>"
      ],
      "text/plain": [
       "    0   1\n",
       "0  10  11\n",
       "1  20  21"
      ]
     },
     "execution_count": 8,
     "metadata": {},
     "output_type": "execute_result"
    }
   ],
   "source": [
    "# Method 3: Using dictionary.\n",
    "\n",
    "df = pd.DataFrame({0: [10, 20], 1: [11, 21]})\n",
    "df\n",
    "# create dataframe using dictionary. The keys are the column headings."
   ]
  },
  {
   "cell_type": "code",
   "execution_count": 20,
   "id": "2de44ff3",
   "metadata": {},
   "outputs": [
    {
     "data": {
      "text/plain": [
       "0    1\n",
       "1    2\n",
       "2    3\n",
       "3    4\n",
       "4    5\n",
       "dtype: int64"
      ]
     },
     "execution_count": 20,
     "metadata": {},
     "output_type": "execute_result"
    }
   ],
   "source": [
    "# Method 4: Using combination of pandas series and dictionary.\n",
    "\n",
    "s1 = pd.Series(np.arange(1, 6, 1))\n",
    "s1"
   ]
  },
  {
   "cell_type": "code",
   "execution_count": 17,
   "id": "4e383a9d",
   "metadata": {},
   "outputs": [
    {
     "data": {
      "text/plain": [
       "0     6\n",
       "1     7\n",
       "2     8\n",
       "3     9\n",
       "4    10\n",
       "dtype: int64"
      ]
     },
     "execution_count": 17,
     "metadata": {},
     "output_type": "execute_result"
    }
   ],
   "source": [
    "s2 = pd.Series(np.arange(6, 11, 1))\n",
    "s2"
   ]
  },
  {
   "cell_type": "code",
   "execution_count": 21,
   "id": "d08a5349",
   "metadata": {},
   "outputs": [
    {
     "data": {
      "text/html": [
       "<div>\n",
       "<style scoped>\n",
       "    .dataframe tbody tr th:only-of-type {\n",
       "        vertical-align: middle;\n",
       "    }\n",
       "\n",
       "    .dataframe tbody tr th {\n",
       "        vertical-align: top;\n",
       "    }\n",
       "\n",
       "    .dataframe thead th {\n",
       "        text-align: right;\n",
       "    }\n",
       "</style>\n",
       "<table border=\"1\" class=\"dataframe\">\n",
       "  <thead>\n",
       "    <tr style=\"text-align: right;\">\n",
       "      <th></th>\n",
       "      <th>a</th>\n",
       "      <th>b</th>\n",
       "    </tr>\n",
       "  </thead>\n",
       "  <tbody>\n",
       "    <tr>\n",
       "      <th>0</th>\n",
       "      <td>1</td>\n",
       "      <td>6</td>\n",
       "    </tr>\n",
       "    <tr>\n",
       "      <th>1</th>\n",
       "      <td>2</td>\n",
       "      <td>7</td>\n",
       "    </tr>\n",
       "    <tr>\n",
       "      <th>2</th>\n",
       "      <td>3</td>\n",
       "      <td>8</td>\n",
       "    </tr>\n",
       "    <tr>\n",
       "      <th>3</th>\n",
       "      <td>4</td>\n",
       "      <td>9</td>\n",
       "    </tr>\n",
       "    <tr>\n",
       "      <th>4</th>\n",
       "      <td>5</td>\n",
       "      <td>10</td>\n",
       "    </tr>\n",
       "  </tbody>\n",
       "</table>\n",
       "</div>"
      ],
      "text/plain": [
       "   a   b\n",
       "0  1   6\n",
       "1  2   7\n",
       "2  3   8\n",
       "3  4   9\n",
       "4  5  10"
      ]
     },
     "execution_count": 21,
     "metadata": {},
     "output_type": "execute_result"
    }
   ],
   "source": [
    "df = pd.DataFrame({'a': s1, 'b': s2})\n",
    "df\n",
    "# keys are the column headings.\n",
    "# create dataframe through a combination of pandas series and dictionary."
   ]
  },
  {
   "cell_type": "code",
   "execution_count": 22,
   "id": "bad20fa7",
   "metadata": {},
   "outputs": [
    {
     "data": {
      "text/plain": [
       "1    12\n",
       "2    13\n",
       "dtype: int64"
      ]
     },
     "execution_count": 22,
     "metadata": {},
     "output_type": "execute_result"
    }
   ],
   "source": [
    "s3 = pd.Series(np.arange(12, 14, 1), index = [1, 2])\n",
    "s3"
   ]
  },
  {
   "cell_type": "code",
   "execution_count": 23,
   "id": "fd026577",
   "metadata": {},
   "outputs": [
    {
     "data": {
      "text/html": [
       "<div>\n",
       "<style scoped>\n",
       "    .dataframe tbody tr th:only-of-type {\n",
       "        vertical-align: middle;\n",
       "    }\n",
       "\n",
       "    .dataframe tbody tr th {\n",
       "        vertical-align: top;\n",
       "    }\n",
       "\n",
       "    .dataframe thead th {\n",
       "        text-align: right;\n",
       "    }\n",
       "</style>\n",
       "<table border=\"1\" class=\"dataframe\">\n",
       "  <thead>\n",
       "    <tr style=\"text-align: right;\">\n",
       "      <th></th>\n",
       "      <th>a</th>\n",
       "      <th>b</th>\n",
       "      <th>c</th>\n",
       "    </tr>\n",
       "  </thead>\n",
       "  <tbody>\n",
       "    <tr>\n",
       "      <th>0</th>\n",
       "      <td>1</td>\n",
       "      <td>6</td>\n",
       "      <td>NaN</td>\n",
       "    </tr>\n",
       "    <tr>\n",
       "      <th>1</th>\n",
       "      <td>2</td>\n",
       "      <td>7</td>\n",
       "      <td>12.0</td>\n",
       "    </tr>\n",
       "    <tr>\n",
       "      <th>2</th>\n",
       "      <td>3</td>\n",
       "      <td>8</td>\n",
       "      <td>13.0</td>\n",
       "    </tr>\n",
       "    <tr>\n",
       "      <th>3</th>\n",
       "      <td>4</td>\n",
       "      <td>9</td>\n",
       "      <td>NaN</td>\n",
       "    </tr>\n",
       "    <tr>\n",
       "      <th>4</th>\n",
       "      <td>5</td>\n",
       "      <td>10</td>\n",
       "      <td>NaN</td>\n",
       "    </tr>\n",
       "  </tbody>\n",
       "</table>\n",
       "</div>"
      ],
      "text/plain": [
       "   a   b     c\n",
       "0  1   6   NaN\n",
       "1  2   7  12.0\n",
       "2  3   8  13.0\n",
       "3  4   9   NaN\n",
       "4  5  10   NaN"
      ]
     },
     "execution_count": 23,
     "metadata": {},
     "output_type": "execute_result"
    }
   ],
   "source": [
    "df = pd.DataFrame({'a': s1, 'b': s2, 'c': s3})\n",
    "df\n",
    "# Third column added with correct allignment. 'NaN' inserted for missing values."
   ]
  },
  {
   "cell_type": "code",
   "execution_count": 24,
   "id": "37c1cf5e",
   "metadata": {},
   "outputs": [
    {
     "data": {
      "text/html": [
       "<div>\n",
       "<style scoped>\n",
       "    .dataframe tbody tr th:only-of-type {\n",
       "        vertical-align: middle;\n",
       "    }\n",
       "\n",
       "    .dataframe tbody tr th {\n",
       "        vertical-align: top;\n",
       "    }\n",
       "\n",
       "    .dataframe thead th {\n",
       "        text-align: right;\n",
       "    }\n",
       "</style>\n",
       "<table border=\"1\" class=\"dataframe\">\n",
       "  <thead>\n",
       "    <tr style=\"text-align: right;\">\n",
       "      <th></th>\n",
       "      <th>0</th>\n",
       "      <th>1</th>\n",
       "    </tr>\n",
       "  </thead>\n",
       "  <tbody>\n",
       "    <tr>\n",
       "      <th>0</th>\n",
       "      <td>10</td>\n",
       "      <td>11</td>\n",
       "    </tr>\n",
       "    <tr>\n",
       "      <th>1</th>\n",
       "      <td>20</td>\n",
       "      <td>21</td>\n",
       "    </tr>\n",
       "  </tbody>\n",
       "</table>\n",
       "</div>"
      ],
      "text/plain": [
       "    0   1\n",
       "0  10  11\n",
       "1  20  21"
      ]
     },
     "execution_count": 24,
     "metadata": {},
     "output_type": "execute_result"
    }
   ],
   "source": [
    "# Method 5: Using a list of lists.\n",
    "\n",
    "df = pd.DataFrame([[10, 11], [20, 21]])\n",
    "df\n",
    "# create dataframe using a list of lists.\n",
    "# default argument for columns is: columns = [0, 1]\n",
    "# default row indexing is: index = [0, 1]"
   ]
  },
  {
   "cell_type": "code",
   "execution_count": 25,
   "id": "c1632f66",
   "metadata": {},
   "outputs": [
    {
     "data": {
      "text/html": [
       "<div>\n",
       "<style scoped>\n",
       "    .dataframe tbody tr th:only-of-type {\n",
       "        vertical-align: middle;\n",
       "    }\n",
       "\n",
       "    .dataframe tbody tr th {\n",
       "        vertical-align: top;\n",
       "    }\n",
       "\n",
       "    .dataframe thead th {\n",
       "        text-align: right;\n",
       "    }\n",
       "</style>\n",
       "<table border=\"1\" class=\"dataframe\">\n",
       "  <thead>\n",
       "    <tr style=\"text-align: right;\">\n",
       "      <th></th>\n",
       "      <th>a</th>\n",
       "      <th>b</th>\n",
       "    </tr>\n",
       "  </thead>\n",
       "  <tbody>\n",
       "    <tr>\n",
       "      <th>R1</th>\n",
       "      <td>10</td>\n",
       "      <td>11</td>\n",
       "    </tr>\n",
       "    <tr>\n",
       "      <th>R2</th>\n",
       "      <td>20</td>\n",
       "      <td>21</td>\n",
       "    </tr>\n",
       "  </tbody>\n",
       "</table>\n",
       "</div>"
      ],
      "text/plain": [
       "     a   b\n",
       "R1  10  11\n",
       "R2  20  21"
      ]
     },
     "execution_count": 25,
     "metadata": {},
     "output_type": "execute_result"
    }
   ],
   "source": [
    "df = pd.DataFrame([[10, 11], [20, 21]], index = ['R1', 'R2'], columns = ['a', 'b'])\n",
    "df\n",
    "# the default arrangements changed and customized at the time of constructing dataframe."
   ]
  },
  {
   "cell_type": "code",
   "execution_count": 26,
   "id": "3edc1426",
   "metadata": {},
   "outputs": [
    {
     "data": {
      "text/html": [
       "<div>\n",
       "<style scoped>\n",
       "    .dataframe tbody tr th:only-of-type {\n",
       "        vertical-align: middle;\n",
       "    }\n",
       "\n",
       "    .dataframe tbody tr th {\n",
       "        vertical-align: top;\n",
       "    }\n",
       "\n",
       "    .dataframe thead th {\n",
       "        text-align: right;\n",
       "    }\n",
       "</style>\n",
       "<table border=\"1\" class=\"dataframe\">\n",
       "  <thead>\n",
       "    <tr style=\"text-align: right;\">\n",
       "      <th></th>\n",
       "      <th>c1</th>\n",
       "      <th>c2</th>\n",
       "    </tr>\n",
       "  </thead>\n",
       "  <tbody>\n",
       "    <tr>\n",
       "      <th>r1</th>\n",
       "      <td>10</td>\n",
       "      <td>11</td>\n",
       "    </tr>\n",
       "    <tr>\n",
       "      <th>r2</th>\n",
       "      <td>20</td>\n",
       "      <td>21</td>\n",
       "    </tr>\n",
       "  </tbody>\n",
       "</table>\n",
       "</div>"
      ],
      "text/plain": [
       "    c1  c2\n",
       "r1  10  11\n",
       "r2  20  21"
      ]
     },
     "execution_count": 26,
     "metadata": {},
     "output_type": "execute_result"
    }
   ],
   "source": [
    "df.index = ['r1', 'r2']\n",
    "df.columns = ['c1', 'c2']\n",
    "df\n",
    "# changes made through assignment operator later on."
   ]
  },
  {
   "cell_type": "code",
   "execution_count": 27,
   "id": "868270bc",
   "metadata": {},
   "outputs": [
    {
     "data": {
      "text/plain": [
       "(2, 2)"
      ]
     },
     "execution_count": 27,
     "metadata": {},
     "output_type": "execute_result"
    }
   ],
   "source": [
    "df.shape\n",
    "# 2 rows and 2 columns."
   ]
  },
  {
   "cell_type": "code",
   "execution_count": null,
   "id": "c07b93d8",
   "metadata": {},
   "outputs": [],
   "source": [
    "df.columns\n",
    "# column headings/variable names."
   ]
  },
  {
   "cell_type": "code",
   "execution_count": null,
   "id": "f42992e5",
   "metadata": {},
   "outputs": [],
   "source": [
    "df.index\n",
    "# row indices"
   ]
  },
  {
   "cell_type": "code",
   "execution_count": null,
   "id": "5c6ada62",
   "metadata": {},
   "outputs": [],
   "source": [
    "df.values"
   ]
  },
  {
   "cell_type": "code",
   "execution_count": null,
   "id": "ee6f9b01-efd8-45ce-bffd-3d0a87481069",
   "metadata": {},
   "outputs": [],
   "source": [
    "df.info()"
   ]
  },
  {
   "cell_type": "markdown",
   "id": "6dfa5bc3",
   "metadata": {},
   "source": [
    "# Selecting columns and rows of a DataFrame\n",
    "    * Selecting column rquires [] operator.\n",
    "    * Secting row requires iloc, loc or slicing with [] operator."
   ]
  },
  {
   "cell_type": "code",
   "execution_count": null,
   "id": "2cd2feb4",
   "metadata": {},
   "outputs": [],
   "source": [
    "df"
   ]
  },
  {
   "cell_type": "code",
   "execution_count": null,
   "id": "97a14673",
   "metadata": {},
   "outputs": [],
   "source": [
    "# Selecting Only Columns"
   ]
  },
  {
   "cell_type": "code",
   "execution_count": null,
   "id": "3978fe6b",
   "metadata": {},
   "outputs": [],
   "source": [
    "df['c1']\n",
    "# grab the column.\n",
    "# df[column or columns]. No argument for the row or rows except in loc, iloc, or slicing in [] operator."
   ]
  },
  {
   "cell_type": "code",
   "execution_count": null,
   "id": "f0e13e33",
   "metadata": {},
   "outputs": [],
   "source": [
    "# df['c1', 'c2'] \n",
    "# error since no column titled, c1 c2, exisits."
   ]
  },
  {
   "cell_type": "code",
   "execution_count": null,
   "id": "2bb72e0e",
   "metadata": {},
   "outputs": [],
   "source": [
    "df[['c1', 'c2']]\n",
    "# the inner [] indicates that c1 and c2 are two columns to look for."
   ]
  },
  {
   "cell_type": "code",
   "execution_count": null,
   "id": "96689eb8",
   "metadata": {},
   "outputs": [],
   "source": [
    "df.c1\n",
    "# same as df['c1'] but not advisable since a column name may accidently match a builit-in attribute."
   ]
  },
  {
   "cell_type": "code",
   "execution_count": null,
   "id": "09ddc5c7",
   "metadata": {},
   "outputs": [],
   "source": [
    "# Slecting Rows with slicing in [] operator"
   ]
  },
  {
   "cell_type": "code",
   "execution_count": null,
   "id": "d688375c",
   "metadata": {},
   "outputs": [],
   "source": [
    "df['r1':'r2']\n",
    "# Example of [] with slicing for rows. Also, due to (:), no inner [] needed for clarification.\n",
    "# This kind of slicing only permitted for rows."
   ]
  },
  {
   "cell_type": "code",
   "execution_count": null,
   "id": "0d22a9a4",
   "metadata": {},
   "outputs": [],
   "source": [
    "df[:1] # again slicing for rows with []."
   ]
  },
  {
   "cell_type": "code",
   "execution_count": null,
   "id": "4735ce4b",
   "metadata": {},
   "outputs": [],
   "source": [
    "# Selecting combination of rows and columns."
   ]
  },
  {
   "cell_type": "code",
   "execution_count": null,
   "id": "2ac11d01",
   "metadata": {},
   "outputs": [],
   "source": [
    "df.iloc[0]\n",
    "# iloc[row or rows, column or columns]. 0 taken as an argument for row. Column argument is optional.\n",
    "# Also, iloc is for integer location and accepts only integers as index positions."
   ]
  },
  {
   "cell_type": "code",
   "execution_count": null,
   "id": "82231154",
   "metadata": {},
   "outputs": [],
   "source": [
    "df.iloc[0, 1]\n",
    "# 0 is an argument for row and after comma 1 is argument for column. COMMA distinguishes between the arguments for rows\n",
    "# and columns.\n",
    "# gives a scalar value."
   ]
  },
  {
   "cell_type": "code",
   "execution_count": null,
   "id": "976c27be",
   "metadata": {},
   "outputs": [],
   "source": [
    "df.iloc[[0, 1]]\n",
    "# 0 and 1 are both arguments for row. The columns arguments can be given after COMMA put after inner []."
   ]
  },
  {
   "cell_type": "code",
   "execution_count": null,
   "id": "82099319",
   "metadata": {},
   "outputs": [],
   "source": [
    "df.iloc[[0, 1], 1]\n",
    "# [0, 1] are arguements for rows. 1 after comma after [] is the argument for column."
   ]
  },
  {
   "cell_type": "code",
   "execution_count": null,
   "id": "4e7a52a1",
   "metadata": {},
   "outputs": [],
   "source": [
    "df.iloc[0, [0, 1]]\n",
    "# 0 is an argument for row, and [0, 1] are arguments for column."
   ]
  },
  {
   "cell_type": "code",
   "execution_count": null,
   "id": "36c05f5c",
   "metadata": {},
   "outputs": [],
   "source": [
    "df.iloc[[0, 1], [0, 1]]\n",
    "# first [0, 1] is an argument for rows and the second [0, 1] after middle comma is an argument for columns."
   ]
  },
  {
   "cell_type": "code",
   "execution_count": null,
   "id": "699ab961",
   "metadata": {},
   "outputs": [],
   "source": [
    "# sp500.iloc[0, 1, 1] # Indexting error: Too many indexers, 0 for row, first 1 for column, and and second 1 extra."
   ]
  },
  {
   "cell_type": "code",
   "execution_count": null,
   "id": "370aa79e",
   "metadata": {},
   "outputs": [],
   "source": [
    "#sp500.iloc[0, 1, [0, 1]] # Indexting error: Too many indexers, 0 for row, 1 for column, and [0, 1] is extra."
   ]
  }
 ],
 "metadata": {
  "kernelspec": {
   "display_name": "Python 3 (ipykernel)",
   "language": "python",
   "name": "python3"
  },
  "language_info": {
   "codemirror_mode": {
    "name": "ipython",
    "version": 3
   },
   "file_extension": ".py",
   "mimetype": "text/x-python",
   "name": "python",
   "nbconvert_exporter": "python",
   "pygments_lexer": "ipython3",
   "version": "3.9.7"
  }
 },
 "nbformat": 4,
 "nbformat_minor": 5
}
